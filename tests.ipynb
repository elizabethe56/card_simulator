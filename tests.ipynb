{
 "cells": [
  {
   "cell_type": "code",
   "execution_count": 29,
   "metadata": {},
   "outputs": [],
   "source": [
    "import cards\n",
    "\n",
    "from importlib import reload\n",
    "reload(cards)\n",
    "\n",
    "from cards import Card, Hand"
   ]
  },
  {
   "cell_type": "code",
   "execution_count": 30,
   "metadata": {},
   "outputs": [
    {
     "name": "stdout",
     "output_type": "stream",
     "text": [
      "5 ([1, 5],)\n",
      "5 ([5],)\n"
     ]
    },
    {
     "data": {
      "text/plain": [
       "True"
      ]
     },
     "execution_count": 30,
     "metadata": {},
     "output_type": "execute_result"
    }
   ],
   "source": [
    "h1 = Hand([Card(face = 'Ace', suit = 'clubs'),\n",
    "         Card(face = '2', suit = 'spades'),\n",
    "         Card(face = '5', suit = 'clubs'),\n",
    "         Card(face = '5', suit = 'hearts'),\n",
    "         Card(face = '7', suit = 'clubs'),\n",
    "         Card(face = '10', suit = 'diamonds'),\n",
    "         Card(face = 'Jack', suit = 'clubs')])\n",
    "\n",
    "h2 = Hand([Card(face = 'Ace', suit = 'clubs'),\n",
    "         Card(face = 'Ace', suit = 'diamonds'),\n",
    "         Card(face = '5', suit = 'clubs'),\n",
    "         Card(face = '5', suit = 'hearts'),\n",
    "         Card(face = 'Queen', suit = 'clubs'),\n",
    "         Card(face = 'Jack', suit = 'diamonds'),\n",
    "         Card(face = 'King', suit = 'spades')])\n",
    "h2\n",
    "\n",
    "h2 == h1"
   ]
  },
  {
   "cell_type": "markdown",
   "metadata": {},
   "source": [
    "#### Testing validate_hand"
   ]
  },
  {
   "cell_type": "code",
   "execution_count": 26,
   "metadata": {},
   "outputs": [
    {
     "ename": "ValueError",
     "evalue": "Hand contains two of: 5 of Clubs",
     "output_type": "error",
     "traceback": [
      "\u001b[0;31m---------------------------------------------------------------------------\u001b[0m",
      "\u001b[0;31mValueError\u001b[0m                                Traceback (most recent call last)",
      "\u001b[1;32m/Users/elizabetheid/Desktop/Workflows/WM2/card_simulator/tests.ipynb Cell 3\u001b[0m line \u001b[0;36m1\n\u001b[0;32m----> <a href='vscode-notebook-cell:/Users/elizabetheid/Desktop/Workflows/WM2/card_simulator/tests.ipynb#X33sZmlsZQ%3D%3D?line=0'>1</a>\u001b[0m h \u001b[39m=\u001b[39m Hand([Card(face \u001b[39m=\u001b[39m \u001b[39m'\u001b[39m\u001b[39mAce\u001b[39m\u001b[39m'\u001b[39m, suit \u001b[39m=\u001b[39m \u001b[39m'\u001b[39m\u001b[39mclubs\u001b[39m\u001b[39m'\u001b[39m),\n\u001b[1;32m      <a href='vscode-notebook-cell:/Users/elizabetheid/Desktop/Workflows/WM2/card_simulator/tests.ipynb#X33sZmlsZQ%3D%3D?line=1'>2</a>\u001b[0m          Card(face \u001b[39m=\u001b[39m \u001b[39m'\u001b[39m\u001b[39m2\u001b[39m\u001b[39m'\u001b[39m, suit \u001b[39m=\u001b[39m \u001b[39m'\u001b[39m\u001b[39mclubs\u001b[39m\u001b[39m'\u001b[39m),\n\u001b[1;32m      <a href='vscode-notebook-cell:/Users/elizabetheid/Desktop/Workflows/WM2/card_simulator/tests.ipynb#X33sZmlsZQ%3D%3D?line=2'>3</a>\u001b[0m          Card(face \u001b[39m=\u001b[39m \u001b[39m'\u001b[39m\u001b[39m5\u001b[39m\u001b[39m'\u001b[39m, suit \u001b[39m=\u001b[39m \u001b[39m'\u001b[39m\u001b[39mclubs\u001b[39m\u001b[39m'\u001b[39m),\n\u001b[1;32m      <a href='vscode-notebook-cell:/Users/elizabetheid/Desktop/Workflows/WM2/card_simulator/tests.ipynb#X33sZmlsZQ%3D%3D?line=3'>4</a>\u001b[0m          Card(face \u001b[39m=\u001b[39m \u001b[39m'\u001b[39m\u001b[39m5\u001b[39m\u001b[39m'\u001b[39m, suit \u001b[39m=\u001b[39m \u001b[39m'\u001b[39m\u001b[39mclubs\u001b[39m\u001b[39m'\u001b[39m),\n\u001b[1;32m      <a href='vscode-notebook-cell:/Users/elizabetheid/Desktop/Workflows/WM2/card_simulator/tests.ipynb#X33sZmlsZQ%3D%3D?line=4'>5</a>\u001b[0m          Card(face \u001b[39m=\u001b[39m \u001b[39m'\u001b[39m\u001b[39m7\u001b[39m\u001b[39m'\u001b[39m, suit \u001b[39m=\u001b[39m \u001b[39m'\u001b[39m\u001b[39mclubs\u001b[39m\u001b[39m'\u001b[39m),\n\u001b[1;32m      <a href='vscode-notebook-cell:/Users/elizabetheid/Desktop/Workflows/WM2/card_simulator/tests.ipynb#X33sZmlsZQ%3D%3D?line=5'>6</a>\u001b[0m          Card(face \u001b[39m=\u001b[39m \u001b[39m'\u001b[39m\u001b[39m10\u001b[39m\u001b[39m'\u001b[39m, suit \u001b[39m=\u001b[39m \u001b[39m'\u001b[39m\u001b[39mclubs\u001b[39m\u001b[39m'\u001b[39m),\n\u001b[1;32m      <a href='vscode-notebook-cell:/Users/elizabetheid/Desktop/Workflows/WM2/card_simulator/tests.ipynb#X33sZmlsZQ%3D%3D?line=6'>7</a>\u001b[0m          Card(face \u001b[39m=\u001b[39m \u001b[39m'\u001b[39m\u001b[39mJack\u001b[39m\u001b[39m'\u001b[39m, suit \u001b[39m=\u001b[39m \u001b[39m'\u001b[39m\u001b[39mclubs\u001b[39m\u001b[39m'\u001b[39m)])\n\u001b[1;32m      <a href='vscode-notebook-cell:/Users/elizabetheid/Desktop/Workflows/WM2/card_simulator/tests.ipynb#X33sZmlsZQ%3D%3D?line=7'>8</a>\u001b[0m h\n",
      "File \u001b[0;32m~/Desktop/Workflows/WM2/card_simulator/cards.py:13\u001b[0m, in \u001b[0;36mHand.__init__\u001b[0;34m(self, cards)\u001b[0m\n\u001b[1;32m     10\u001b[0m \u001b[39mdef\u001b[39;00m \u001b[39m__init__\u001b[39m(\u001b[39mself\u001b[39m,\n\u001b[1;32m     11\u001b[0m              cards: \u001b[39mlist\u001b[39m[Card]\n\u001b[1;32m     12\u001b[0m             ):\n\u001b[0;32m---> 13\u001b[0m     \u001b[39mself\u001b[39m\u001b[39m.\u001b[39m__validate_hand(cards)\n\u001b[1;32m     14\u001b[0m     \u001b[39mself\u001b[39m\u001b[39m.\u001b[39m__cards \u001b[39m=\u001b[39m cards\n\u001b[1;32m     15\u001b[0m     \u001b[39mself\u001b[39m\u001b[39m.\u001b[39mcount_faces_suits()\n",
      "File \u001b[0;32m~/Desktop/Workflows/WM2/card_simulator/cards.py:27\u001b[0m, in \u001b[0;36mHand.__validate_hand\u001b[0;34m(self, cards)\u001b[0m\n\u001b[1;32m     25\u001b[0m \u001b[39mfor\u001b[39;00m j \u001b[39min\u001b[39;00m \u001b[39mrange\u001b[39m(i \u001b[39m+\u001b[39m \u001b[39m1\u001b[39m, \u001b[39mlen\u001b[39m(cards)):\n\u001b[1;32m     26\u001b[0m     \u001b[39mif\u001b[39;00m cards[i] \u001b[39m==\u001b[39m cards[j]:\n\u001b[0;32m---> 27\u001b[0m         \u001b[39mraise\u001b[39;00m \u001b[39mValueError\u001b[39;00m(\u001b[39mf\u001b[39m\u001b[39m'\u001b[39m\u001b[39mHand contains two of: \u001b[39m\u001b[39m{\u001b[39;00mcards[i]\u001b[39m}\u001b[39;00m\u001b[39m'\u001b[39m)\n",
      "\u001b[0;31mValueError\u001b[0m: Hand contains two of: 5 of Clubs"
     ]
    }
   ],
   "source": [
    "h = Hand([Card(face = 'Ace', suit = 'clubs'),\n",
    "         Card(face = '2', suit = 'clubs'),\n",
    "         Card(face = '5', suit = 'clubs'),\n",
    "         Card(face = '5', suit = 'clubs'),\n",
    "         Card(face = '7', suit = 'clubs'),\n",
    "         Card(face = '10', suit = 'clubs'),\n",
    "         Card(face = 'Jack', suit = 'clubs')])\n",
    "h"
   ]
  },
  {
   "cell_type": "markdown",
   "metadata": {},
   "source": [
    "## Testing Hand.get_best_hand()"
   ]
  },
  {
   "cell_type": "markdown",
   "metadata": {},
   "source": [
    "#### get_high_card()"
   ]
  },
  {
   "cell_type": "code",
   "execution_count": 6,
   "metadata": {},
   "outputs": [
    {
     "data": {
      "text/plain": [
       "Hand with:\n",
       "[Ace of Clubs, 2 of Clubs, 5 of Clubs, 5 of Hearts, 7 of Clubs, 10 of Clubs, Jack of Clubs]"
      ]
     },
     "execution_count": 6,
     "metadata": {},
     "output_type": "execute_result"
    }
   ],
   "source": [
    "h = Hand([Card(face = 'Ace', suit = 'clubs'),\n",
    "         Card(face = '2', suit = 'clubs'),\n",
    "         Card(face = '5', suit = 'clubs'),\n",
    "         Card(face = '5', suit = 'hearts'),\n",
    "         Card(face = '7', suit = 'clubs'),\n",
    "         Card(face = '10', suit = 'clubs'),\n",
    "         Card(face = 'Jack', suit = 'clubs')])\n",
    "h"
   ]
  },
  {
   "cell_type": "code",
   "execution_count": 5,
   "metadata": {},
   "outputs": [
    {
     "data": {
      "text/plain": [
       "(11,)"
      ]
     },
     "execution_count": 5,
     "metadata": {},
     "output_type": "execute_result"
    }
   ],
   "source": [
    "h.get_high_card()"
   ]
  },
  {
   "cell_type": "markdown",
   "metadata": {},
   "source": [
    "#### get_pairs()"
   ]
  },
  {
   "cell_type": "code",
   "execution_count": null,
   "metadata": {},
   "outputs": [],
   "source": [
    "h = Hand([Card(face = 'Ace', suit = 'clubs'),\n",
    "         Card(face = '2', suit = 'clubs'),\n",
    "         Card(face = '5', suit = 'clubs'),\n",
    "         Card(face = '5', suit = 'hearts'),\n",
    "         Card(face = '7', suit = 'clubs'),\n",
    "         Card(face = '10', suit = 'clubs'),\n",
    "         Card(face = 'Jack', suit = 'clubs')])\n",
    "h"
   ]
  },
  {
   "cell_type": "code",
   "execution_count": 7,
   "metadata": {},
   "outputs": [
    {
     "data": {
      "text/plain": [
       "([5],)"
      ]
     },
     "execution_count": 7,
     "metadata": {},
     "output_type": "execute_result"
    }
   ],
   "source": [
    "h.get_pairs()"
   ]
  },
  {
   "cell_type": "code",
   "execution_count": 8,
   "metadata": {},
   "outputs": [
    {
     "data": {
      "text/plain": [
       "Hand with:\n",
       "[Ace of Clubs, 2 of Clubs, 5 of Clubs, 5 of Hearts, 7 of Clubs, 7 of Diamonds, Jack of Clubs]"
      ]
     },
     "execution_count": 8,
     "metadata": {},
     "output_type": "execute_result"
    }
   ],
   "source": [
    "h = Hand([Card(face = 'Ace', suit = 'clubs'),\n",
    "         Card(face = '2', suit = 'clubs'),\n",
    "         Card(face = '5', suit = 'clubs'),\n",
    "         Card(face = '5', suit = 'hearts'),\n",
    "         Card(face = '7', suit = 'clubs'),\n",
    "         Card(face = '7', suit = 'diamonds'),\n",
    "         Card(face = 'Jack', suit = 'clubs')])\n",
    "h"
   ]
  },
  {
   "cell_type": "code",
   "execution_count": 9,
   "metadata": {},
   "outputs": [
    {
     "data": {
      "text/plain": [
       "([5, 7],)"
      ]
     },
     "execution_count": 9,
     "metadata": {},
     "output_type": "execute_result"
    }
   ],
   "source": [
    "h.get_pairs()"
   ]
  },
  {
   "cell_type": "markdown",
   "metadata": {},
   "source": [
    "#### get_triples()"
   ]
  },
  {
   "cell_type": "code",
   "execution_count": 11,
   "metadata": {},
   "outputs": [
    {
     "data": {
      "text/plain": [
       "Hand with:\n",
       "[Ace of Clubs, 5 of Diamonds, 5 of Clubs, 5 of Hearts, King of Clubs, King of Diamonds, King of Spades]"
      ]
     },
     "execution_count": 11,
     "metadata": {},
     "output_type": "execute_result"
    }
   ],
   "source": [
    "h = Hand([Card(face = 'Ace', suit = 'clubs'),\n",
    "         Card(face = '5', suit = 'diamonds'),\n",
    "         Card(face = '5', suit = 'clubs'),\n",
    "         Card(face = '5', suit = 'hearts'),\n",
    "         Card(face = 'King', suit = 'clubs'),\n",
    "         Card(face = 'King', suit = 'diamonds'),\n",
    "         Card(face = 'King', suit = 'spades')])\n",
    "h"
   ]
  },
  {
   "cell_type": "code",
   "execution_count": 12,
   "metadata": {},
   "outputs": [
    {
     "data": {
      "text/plain": [
       "([5, 13],)"
      ]
     },
     "execution_count": 12,
     "metadata": {},
     "output_type": "execute_result"
    }
   ],
   "source": [
    "h.get_triples()"
   ]
  },
  {
   "cell_type": "markdown",
   "metadata": {},
   "source": [
    "#### get_straight()"
   ]
  },
  {
   "cell_type": "code",
   "execution_count": 13,
   "metadata": {},
   "outputs": [
    {
     "data": {
      "text/plain": [
       "Hand with:\n",
       "[Ace of Clubs, 2 of Clubs, 3 of Clubs, 4 of Hearts, 6 of Clubs, 5 of Diamonds, King of Clubs]"
      ]
     },
     "execution_count": 13,
     "metadata": {},
     "output_type": "execute_result"
    }
   ],
   "source": [
    "h = Hand([Card(face = 'Ace', suit = 'clubs'),\n",
    "         Card(face = '2', suit = 'clubs'),\n",
    "         Card(face = '3', suit = 'clubs'),\n",
    "         Card(face = '4', suit = 'hearts'),\n",
    "         Card(face = '6', suit = 'clubs'),\n",
    "         Card(face = '5', suit = 'diamonds'),\n",
    "         Card(face = 'King', suit = 'clubs')])\n",
    "h"
   ]
  },
  {
   "cell_type": "code",
   "execution_count": 15,
   "metadata": {},
   "outputs": [
    {
     "data": {
      "text/plain": [
       "(6,)"
      ]
     },
     "execution_count": 15,
     "metadata": {},
     "output_type": "execute_result"
    }
   ],
   "source": [
    "h.get_straight()"
   ]
  },
  {
   "cell_type": "code",
   "execution_count": 20,
   "metadata": {},
   "outputs": [
    {
     "data": {
      "text/plain": [
       "Hand with:\n",
       "[Ace of Clubs, 2 of Clubs, 3 of Clubs, 4 of Hearts, 6 of Clubs, 5 of Diamonds, 3 of Spades]"
      ]
     },
     "execution_count": 20,
     "metadata": {},
     "output_type": "execute_result"
    }
   ],
   "source": [
    "h = Hand([Card(face = 'Ace', suit = 'clubs'),\n",
    "         Card(face = '2', suit = 'clubs'),\n",
    "         Card(face = '3', suit = 'clubs'),\n",
    "         Card(face = '4', suit = 'hearts'),\n",
    "         Card(face = '6', suit = 'clubs'),\n",
    "         Card(face = '5', suit = 'diamonds'),\n",
    "         Card(face = '3', suit = 'spades')])\n",
    "h"
   ]
  },
  {
   "cell_type": "code",
   "execution_count": 21,
   "metadata": {},
   "outputs": [
    {
     "data": {
      "text/plain": [
       "(6,)"
      ]
     },
     "execution_count": 21,
     "metadata": {},
     "output_type": "execute_result"
    }
   ],
   "source": [
    "h.get_straight()"
   ]
  },
  {
   "cell_type": "code",
   "execution_count": 22,
   "metadata": {},
   "outputs": [
    {
     "data": {
      "text/plain": [
       "Hand with:\n",
       "[Ace of Clubs, 2 of Clubs, 3 of Clubs, 3 of Hearts, 6 of Clubs, 5 of Diamonds, 3 of Spades]"
      ]
     },
     "execution_count": 22,
     "metadata": {},
     "output_type": "execute_result"
    }
   ],
   "source": [
    "h = Hand([Card(face = 'Ace', suit = 'clubs'),\n",
    "         Card(face = '2', suit = 'clubs'),\n",
    "         Card(face = '3', suit = 'clubs'),\n",
    "         Card(face = '3', suit = 'hearts'),\n",
    "         Card(face = '6', suit = 'clubs'),\n",
    "         Card(face = '5', suit = 'diamonds'),\n",
    "         Card(face = '3', suit = 'spades')])\n",
    "h"
   ]
  },
  {
   "cell_type": "code",
   "execution_count": 23,
   "metadata": {},
   "outputs": [
    {
     "data": {
      "text/plain": [
       "(None,)"
      ]
     },
     "execution_count": 23,
     "metadata": {},
     "output_type": "execute_result"
    }
   ],
   "source": [
    "h.get_straight()"
   ]
  },
  {
   "cell_type": "code",
   "execution_count": null,
   "metadata": {},
   "outputs": [],
   "source": []
  }
 ],
 "metadata": {
  "kernelspec": {
   "display_name": "dataviz",
   "language": "python",
   "name": "python3"
  },
  "language_info": {
   "codemirror_mode": {
    "name": "ipython",
    "version": 3
   },
   "file_extension": ".py",
   "mimetype": "text/x-python",
   "name": "python",
   "nbconvert_exporter": "python",
   "pygments_lexer": "ipython3",
   "version": "3.11.5"
  },
  "orig_nbformat": 4
 },
 "nbformat": 4,
 "nbformat_minor": 2
}
