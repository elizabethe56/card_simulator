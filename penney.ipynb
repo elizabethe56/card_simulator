{
 "cells": [
  {
   "cell_type": "code",
   "execution_count": 1,
   "metadata": {},
   "outputs": [],
   "source": [
    "import numpy as np\n",
    "import matplotlib.pyplot as plt\n",
    "import random"
   ]
  },
  {
   "cell_type": "code",
   "execution_count": 23,
   "metadata": {},
   "outputs": [],
   "source": [
    "class ModifiedPenneysGame:\n",
    "    '''\n",
    "    Run N iterations of the Modified Penneys Game\n",
    "    Each run tests all combinations for 2 players with M bits\n",
    "    '''\n",
    "    DECK = ['0']*26 + ['1']*26\n",
    "\n",
    "    def __init__(self,\n",
    "                 num_games = 10,\n",
    "                 num_bits = 3,\n",
    "                 random_seed = 1):\n",
    "        \n",
    "        if random_seed:\n",
    "            random.seed(random_seed)\n",
    "        self.num_bits = num_bits\n",
    "        self.num_games = num_games\n",
    "        self.make_deck()\n",
    "        self.make_choice_list()\n",
    "\n",
    "        # Temp For Testing\n",
    "        a = self.play_mult_game(100,'000','111')\n",
    "        print(a)\n",
    "        return\n",
    "    \n",
    "    def make_deck(self):\n",
    "        self.deck = self.DECK.copy()\n",
    "        random.shuffle(self.deck)\n",
    "        self.deck = ''.join(self.deck)\n",
    "        return\n",
    "    \n",
    "    def make_choice_list(self):\n",
    "        '''\n",
    "        Make a list of all binary numbers up to 2^num_bits\n",
    "        '''\n",
    "        self.choices = [bin(n).split('b')[-1].zfill(self.num_bits)\n",
    "                        for n in range(2**self.num_bits)]\n",
    "        return\n",
    "    \n",
    "    def play_one_game(self, p1, p2):\n",
    "        '''\n",
    "        Return 0 for p1, 1 for p2, -1 for a tie\n",
    "        '''\n",
    "        points1 = 0\n",
    "        points2 = 0\n",
    "\n",
    "        idx1 = self.deck.find(p1)\n",
    "        idx2 = self.deck.find(p2)\n",
    "\n",
    "        while (idx1 != -1) or (idx2 != -1):\n",
    "\n",
    "            if idx1 == -1:\n",
    "                idx1 = np.inf\n",
    "            if idx2 == -1:\n",
    "                idx2 = np.inf\n",
    "            \n",
    "            if idx1 < idx2:\n",
    "                points1 += idx1 + self.num_bits\n",
    "                self.deck = self.deck[idx1 + self.num_bits:]\n",
    "            else:\n",
    "                points2 += idx2 + self.num_bits\n",
    "                self.deck = self.deck[idx2 + self.num_bits:]\n",
    "            \n",
    "            idx1 = self.deck.find(p1)\n",
    "            idx2 = self.deck.find(p2)\n",
    "        \n",
    "        if points1 > points2:\n",
    "            return 0\n",
    "        elif points1 < points2:\n",
    "            return 1\n",
    "        else:\n",
    "            return 0.5\n",
    "        \n",
    "    def play_mult_game(self, num_games, p1, p2):\n",
    "        results = np.zeros(num_games)\n",
    "        for n in range(num_games):\n",
    "            self.make_deck()\n",
    "            r = self.play_one_game(p1, p2)\n",
    "            results[n] = r\n",
    "\n",
    "        return results"
   ]
  },
  {
   "cell_type": "code",
   "execution_count": 36,
   "metadata": {},
   "outputs": [
    {
     "name": "stdout",
     "output_type": "stream",
     "text": [
      "[1. 1. 0. 0. 0. 0. 0. 1. 1. 0. 0. 0. 0. 1. 1. 0. 1. 1. 0. 1. 0. 0. 0. 0.\n",
      " 0. 0. 0. 0. 0. 1. 0. 0. 0. 1. 1. 1. 1. 0. 0. 1. 0. 0. 0. 0. 1. 1. 1. 1.\n",
      " 1. 0. 1. 1. 0. 1. 0. 1. 0. 0. 1. 0. 1. 1. 0. 0. 0. 0. 0. 1. 1. 1. 0. 0.\n",
      " 1. 0. 1. 0. 0. 1. 0. 0. 0. 0. 1. 1. 0. 1. 1. 0. 1. 0. 1. 1. 1. 1. 0. 0.\n",
      " 1. 0. 0. 1.]\n"
     ]
    }
   ],
   "source": [
    "mpg = ModifiedPenneysGame()"
   ]
  },
  {
   "cell_type": "code",
   "execution_count": 50,
   "metadata": {},
   "outputs": [],
   "source": [
    "results = mpg.play_mult_game(100000,'101','100')"
   ]
  },
  {
   "cell_type": "code",
   "execution_count": 51,
   "metadata": {},
   "outputs": [
    {
     "data": {
      "image/png": "[encoded data removed]",
      "text/plain": [
       "<Figure size 640x480 with 1 Axes>"
      ]
     },
     "metadata": {},
     "output_type": "display_data"
    }
   ],
   "source": [
    "plt.plot([np.mean(results[:x]) for x in range(1,100000)])\n",
    "plt.show()"
   ]
  }
 ],
 "metadata": {
  "kernelspec": {
   "display_name": "workflows",
   "language": "python",
   "name": "python3"
  },
  "language_info": {
   "codemirror_mode": {
    "name": "ipython",
    "version": 3
   },
   "file_extension": ".py",
   "mimetype": "text/x-python",
   "name": "python",
   "nbconvert_exporter": "python",
   "pygments_lexer": "ipython3",
   "version": "3.11.5"
  }
 },
 "nbformat": 4,
 "nbformat_minor": 2
}
